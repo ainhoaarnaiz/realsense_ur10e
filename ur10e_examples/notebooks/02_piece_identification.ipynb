{
 "cells": [
  {
   "cell_type": "markdown",
   "metadata": {},
   "source": [
    "# Piece Identification"
   ]
  },
  {
   "cell_type": "code",
   "execution_count": 15,
   "metadata": {},
   "outputs": [],
   "source": [
    "import rospy\n",
    "from commander.msg import Goal\n",
    "from commander.srv import (\n",
    "    ExecuteTrajectory,\n",
    "    PlanGoal,\n",
    "    PlanSequence,\n",
    "    PickPlace,\n",
    "    GetTcpPose,\n",
    "    SetEe,\n",
    ")\n",
    "\n",
    "from commander.utils import load_scene\n",
    "\n",
    "rospy.init_node(\"tile_identification\")\n",
    "\n",
    "load_scene()\n",
    "\n",
    "plan_goal_srv = rospy.ServiceProxy(\"commander/plan_goal\", PlanGoal)\n",
    "plan_sequence_srv = rospy.ServiceProxy(\"commander/plan_sequence\", PlanSequence)\n",
    "execute_trajectory_srv = rospy.ServiceProxy(\"commander/execute_trajectory\", ExecuteTrajectory)\n",
    "get_tcp_pose_srv = rospy.ServiceProxy(\"commander/get_tcp_pose\", GetTcpPose)\n",
    "set_ee_srv = rospy.ServiceProxy(\"commander/set_ee\", SetEe)\n",
    "pick_place_srv = rospy.ServiceProxy(\"commander/pick_place\", PickPlace)\n",
    "\n",
    "cam_home = [-4.062083546315328, -1.150475339298584, 1.7826998869525355, -3.772630830804342, 0.012788206338882446, -7.3734913961232e-05]\n",
    "plan_goal_srv(Goal(joint_values=cam_home, vel_scale=0.1, acc_scale=0.05, planner='ptp'))\n",
    "success = execute_trajectory_srv()"
   ]
  },
  {
   "cell_type": "code",
   "execution_count": 17,
   "metadata": {},
   "outputs": [
    {
     "name": "stdout",
     "output_type": "stream",
     "text": [
      "1/1 [==============================] - 1s 666ms/step\n",
      "Class: A5\n",
      "Confidence Score: 100.00%\n"
     ]
    }
   ],
   "source": [
    "from keras.models import load_model\n",
    "import numpy as np\n",
    "import pyrealsense2 as rs\n",
    "import cv2\n",
    "\n",
    "# Initialize the RealSense pipeline\n",
    "pipeline = rs.pipeline()\n",
    "config = rs.config()\n",
    "config.enable_stream(rs.stream.color, 640, 480, rs.format.bgr8, 30)\n",
    "\n",
    "pipeline.start(config)\n",
    "\n",
    "# Wait for a coherent color frame\n",
    "frames = pipeline.wait_for_frames()\n",
    "color_frame = frames.get_color_frame()\n",
    "\n",
    "if color_frame:\n",
    "    model_path = \"/dev_ws/src/ur10e_examples/scripts/keras_model.h5\"\n",
    "    label_path = \"/dev_ws/src/ur10e_examples/scripts/labels.txt\"\n",
    "\n",
    "    # Load the model\n",
    "    model = load_model(model_path, compile=False)\n",
    "\n",
    "    # Load the labels\n",
    "    with open(label_path, \"r\") as f:\n",
    "        class_names = [line.strip() for line in f.readlines()]\n",
    "\n",
    "    # Convert the color frame to a numpy array\n",
    "    image = np.asanyarray(color_frame.get_data())\n",
    "\n",
    "    # Resize the image to the model's input shape (224x224)\n",
    "    image_resized = cv2.resize(image, (224, 224), interpolation=cv2.INTER_AREA)\n",
    "\n",
    "    # Reshape and normalize the image\n",
    "    image_input = image_resized.astype(np.float32) / 255.0  # Normalize to [0,1]\n",
    "    image_input = np.expand_dims(image_input, axis=0)  # Add batch dimension\n",
    "\n",
    "    # Predict using the model\n",
    "    prediction = model.predict(image_input)\n",
    "    index = np.argmax(prediction)\n",
    "    class_name = class_names[index]\n",
    "    confidence_score = prediction[0][index]\n",
    "\n",
    "    # Print prediction and confidence score\n",
    "    print(\"Class:\", class_name)\n",
    "    print(\"Confidence Score:\", \"{:.2f}%\".format(confidence_score * 100))\n",
    "\n",
    "    # Display the image with prediction\n",
    "    cv2.putText(image, f\"Class: {class_name}, Confidence: {confidence_score*100:.2f}%\", \n",
    "                (10, 30), cv2.FONT_HERSHEY_SIMPLEX, 0.7, (0, 255, 0), 2)\n",
    "    cv2.imshow(\"RealSense Image\", image)\n",
    "    cv2.waitKey(0)\n",
    "\n",
    "# Release the RealSense pipeline\n",
    "pipeline.stop()\n",
    "cv2.destroyAllWindows()\n"
   ]
  },
  {
   "cell_type": "code",
   "execution_count": 14,
   "metadata": {},
   "outputs": [],
   "source": [
    "cam_home = [-3.10042206640549, -2.131986729448063, 2.585211359700371, -3.5758736772415944, -1.5982155978220582, 0.0014838572949018819]\n",
    "plan_goal_srv(Goal(joint_values=cam_home, vel_scale=0.1, acc_scale=0.05, planner='ptp'))\n",
    "success = execute_trajectory_srv()"
   ]
  }
 ],
 "metadata": {
  "kernelspec": {
   "display_name": "Python 3",
   "language": "python",
   "name": "python3"
  },
  "language_info": {
   "codemirror_mode": {
    "name": "ipython",
    "version": 3
   },
   "file_extension": ".py",
   "mimetype": "text/x-python",
   "name": "python",
   "nbconvert_exporter": "python",
   "pygments_lexer": "ipython3",
   "version": "3.8.10"
  }
 },
 "nbformat": 4,
 "nbformat_minor": 2
}
