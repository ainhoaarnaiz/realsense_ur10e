{
 "cells": [
  {
   "cell_type": "code",
   "execution_count": 2,
   "metadata": {},
   "outputs": [],
   "source": [
    "from typing import List, Tuple\n",
    "from math import pi\n",
    "from datetime import datetime\n",
    "import rospy\n",
    "from copy import deepcopy\n",
    "\n",
    "from moveit_commander import PlanningSceneInterface\n",
    "\n",
    "from geometry_msgs.msg import (\n",
    "    Pose,\n",
    "    PoseStamped,\n",
    "    Point,\n",
    "    Quaternion,\n",
    "    Vector3,\n",
    ")\n",
    "from commander.msg import Goal\n",
    "from commander.srv import (\n",
    "    ExecuteTrajectory,\n",
    "    PlanGoal,\n",
    "    PlanGoalRequest,\n",
    "    PlanSequence,\n",
    "    PlanSequenceRequest,\n",
    "    PickPlace,\n",
    "    GetTcpPose,\n",
    "    VisualizePoses,\n",
    "    SetEe,\n",
    ")\n",
    "from industrial_reconstruction_msgs.srv import (\n",
    "    StartReconstruction,\n",
    "    StartReconstructionRequest,\n",
    "    StopReconstruction,\n",
    "    StopReconstructionRequest,\n",
    ")\n",
    "\n",
    "from commander.utils import poses_from_yaml, load_scene\n",
    "\n",
    "ply_file_path = \"/dev_ws/src/ur10e_examples/captures/raw_02.ply\"\n",
    "\n",
    "CAPTURE = True\n",
    "\n",
    "rospy.init_node(\"holi\")\n",
    "\n",
    "load_scene()\n",
    "\n",
    "plan_goal_srv = rospy.ServiceProxy(\"commander/plan_goal\", PlanGoal)\n",
    "plan_sequence_srv = rospy.ServiceProxy(\"commander/plan_sequence\", PlanSequence)\n",
    "execute_trajectory_srv = rospy.ServiceProxy(\"commander/execute_trajectory\", ExecuteTrajectory)\n",
    "get_tcp_pose_srv = rospy.ServiceProxy(\"commander/get_tcp_pose\", GetTcpPose)\n",
    "set_ee_srv = rospy.ServiceProxy(\"commander/set_ee\", SetEe)\n",
    "pick_place_srv = rospy.ServiceProxy(\"commander/pick_place\", PickPlace)\n",
    "\n",
    "if CAPTURE:\n",
    "    start_recon = rospy.ServiceProxy(\"/start_reconstruction\", StartReconstruction)\n",
    "    stop_recon = rospy.ServiceProxy(\"/stop_reconstruction\", StopReconstruction)\n",
    "\n",
    "\n",
    "def display_poses(poses: List[Pose], frame_id: str = \"base_link\") -> None:\n",
    "    rospy.wait_for_service(\"/visualize_poses\", timeout=10)\n",
    "    visualize_poses = rospy.ServiceProxy(\"/visualize_poses\", VisualizePoses)\n",
    "    visualize_poses(frame_id, poses)\n",
    "\n",
    "# define endeffector\n",
    "# tcp pose should match static tf declared in launch file\n",
    "ee_name = 'D405'\n",
    "tcp_pose = Pose(position=Point(0.0, 0.0, 0.045),\n",
    "                orientation=Quaternion(0, 0, 0, 1))\n",
    "size = [0.042, 0.042, 0.023]\n",
    "\n",
    "def gen_recon_msg(path: str) -> Tuple[StartReconstructionRequest, StopReconstructionRequest]:\n",
    "    start_srv_req = StartReconstructionRequest()\n",
    "    start_srv_req.tracking_frame = 'rgb_camera_tcp'\n",
    "    start_srv_req.relative_frame = 'base_link'\n",
    "    start_srv_req.translation_distance = 0.0\n",
    "    start_srv_req.rotational_distance = 0.0\n",
    "    start_srv_req.live = True\n",
    "    start_srv_req.tsdf_params.voxel_length = 0.001\n",
    "    start_srv_req.tsdf_params.sdf_trunc = 0.004\n",
    "    start_srv_req.tsdf_params.min_box_values = Vector3(x=0.0, y=0.0, z=0.0)\n",
    "    start_srv_req.tsdf_params.max_box_values = Vector3(x=0.0, y=0.0, z=0.0)\n",
    "    start_srv_req.rgbd_params.depth_scale = 1000\n",
    "    start_srv_req.rgbd_params.depth_trunc = 0.25\n",
    "    start_srv_req.rgbd_params.convert_rgb_to_intensity = False\n",
    "\n",
    "\n",
    "    stop_srv_req = StopReconstructionRequest()\n",
    "    #path = path + datetime.now().strftime(\"%m_%d_%H_%M\") + \".ply\"\n",
    "    stop_srv_req.mesh_filepath = path\n",
    "\n",
    "    return start_srv_req, stop_srv_req"
   ]
  },
  {
   "cell_type": "code",
   "execution_count": 8,
   "metadata": {},
   "outputs": [
    {
     "data": {
      "text/plain": [
       "success: True\n",
       "configuration_change: False"
      ]
     },
     "execution_count": 8,
     "metadata": {},
     "output_type": "execute_result"
    }
   ],
   "source": [
    "#cam_home = [0.0, -1.5708, 1.5708, -3.1416, -1.5708, 0]\n",
    "cam_home = [-3.10042206640549, -2.131986729448063, 2.585211359700371, -3.5758736772415944, -1.5982155978220582, 0.0014838572949018819]\n",
    "plan_goal_srv(Goal(joint_values=cam_home, vel_scale=0.03, acc_scale=0.005, planner='ptp'))"
   ]
  },
  {
   "cell_type": "code",
   "execution_count": 9,
   "metadata": {},
   "outputs": [],
   "source": [
    "success = execute_trajectory_srv()"
   ]
  },
  {
   "cell_type": "code",
   "execution_count": 5,
   "metadata": {},
   "outputs": [],
   "source": [
    "success = set_ee_srv('rgb_camera_tcp')"
   ]
  },
  {
   "cell_type": "code",
   "execution_count": 7,
   "metadata": {},
   "outputs": [
    {
     "name": "stdout",
     "output_type": "stream",
     "text": [
      "Start capture\n",
      "Stop capture\n"
     ]
    }
   ],
   "source": [
    "import os\n",
    "import yaml\n",
    "\n",
    "def execute_joint_states(joint_position):\n",
    "    # Plan the goal using the stored joint position\n",
    "    success = plan_goal_srv(Goal(joint_values=joint_position, vel_scale=0.03, acc_scale=0.005, planner='ptp')).success\n",
    "\n",
    "    # Check if planning is successful\n",
    "    if success:\n",
    "        # Execute the trajectory\n",
    "        success = execute_trajectory_srv()\n",
    "\n",
    "        # Check if execution is successful\n",
    "        if not success:\n",
    "            rospy.loginfo(\"Failed to execute trajectory\")\n",
    "            exit()\n",
    "    else:\n",
    "        rospy.loginfo(\"Failed to plan\")\n",
    "        exit()\n",
    "\n",
    "#current_directory = os.getcwd()\n",
    "\n",
    "# Read joint positions from the YAML file\n",
    "#yaml_filename = os.path.join(current_directory, 'joint_positions.yaml')\n",
    "yaml_filename = \"/dev_ws/src/ur10e_examples/config/joint_positions.yaml\"\n",
    "\n",
    "try:\n",
    "    with open(yaml_filename, 'r') as yaml_file:\n",
    "        joint_positions_data = yaml.safe_load(yaml_file)\n",
    "        joint_positions = joint_positions_data.get('joint_positions', [])\n",
    "except FileNotFoundError:\n",
    "    rospy.loginfo(f\"YAML file '{yaml_filename}' not found. Please run the code that saves joint positions first.\")\n",
    "    exit()\n",
    "\n",
    "if CAPTURE:\n",
    "    start_recon_req, stop_recon_req = gen_recon_msg(ply_file_path)\n",
    "\n",
    "start = True\n",
    "\n",
    "for joint_position in joint_positions:\n",
    "    \n",
    "    execute_joint_states(joint_position)\n",
    "\n",
    "    if start:\n",
    "        if CAPTURE:\n",
    "            print(\"Start capture\")\n",
    "            start_recon(start_recon_req)\n",
    "            start = False\n",
    "\n",
    "\n",
    "if CAPTURE:\n",
    "    stop_recon(stop_recon_req)\n",
    "    print(\"Stop capture\")"
   ]
  }
 ],
 "metadata": {
  "kernelspec": {
   "display_name": "Python 3",
   "language": "python",
   "name": "python3"
  },
  "language_info": {
   "codemirror_mode": {
    "name": "ipython",
    "version": 3
   },
   "file_extension": ".py",
   "mimetype": "text/x-python",
   "name": "python",
   "nbconvert_exporter": "python",
   "pygments_lexer": "ipython3",
   "version": "3.8.10"
  }
 },
 "nbformat": 4,
 "nbformat_minor": 2
}
